{
 "cells": [
  {
   "cell_type": "code",
   "execution_count": 1,
   "metadata": {},
   "outputs": [],
   "source": [
    "from langsmith import traceable\n",
    "\n",
    "def deduplicate_and_format_sources(search_response, max_tokens_per_source, include_raw_content=True):\n",
    "    \"\"\"\n",
    "    Takes either a single search response or list of responses from Tavily API and formats them.\n",
    "    Limits the raw_content to approximately max_tokens_per_source.\n",
    "    include_raw_content specifies whether to include the raw_content from Tavily in the formatted string.\n",
    "    \n",
    "    Args:\n",
    "        search_response: Either:\n",
    "            - A dict with a 'results' key containing a list of search results\n",
    "            - A list of dicts, each containing search results\n",
    "            \n",
    "    Returns:\n",
    "        str: Formatted string with deduplicated sources\n",
    "    \"\"\" \n",
    "    if isinstance(search_response, dict):\n",
    "        sources_list = search_response['results']\n",
    "    elif isinstance(search_response, list):\n",
    "        sources_list = []\n",
    "        for response in search_response:\n",
    "            if isinstance(response, dict) and 'results' in response:\n",
    "                sources_list.extend(response['results'])\n",
    "            else:\n",
    "                sources_list.extend(response)\n",
    "    else:\n",
    "        raise ValueError(\"Input must be either a dict with 'results' or a list of search results\")\n",
    "     \n",
    "    unique_sources = {}\n",
    "    for source in sources_list:\n",
    "        if source['url'] not in unique_sources:\n",
    "            unique_sources[source['url']] = source\n",
    "     \n",
    "    formatted_text = \"Sources:\\n\\n\"\n",
    "    for i, source in enumerate(unique_sources.values(), 1):\n",
    "        formatted_text += f\"Source {source['title']}:\\n===\\n\"\n",
    "        formatted_text += f\"URL: {source['url']}\\n===\\n\"\n",
    "        formatted_text += f\"Most relevant content from source: {source['content']}\\n===\\n\"\n",
    "        if include_raw_content: \n",
    "            char_limit = max_tokens_per_source * 4 \n",
    "            raw_content = source.get('raw_content', '')\n",
    "            if raw_content is None:\n",
    "                raw_content = ''\n",
    "                print(f\"Warning: No raw_content found for source {source['url']}\")\n",
    "            if len(raw_content) > char_limit:\n",
    "                raw_content = raw_content[:char_limit] + \"... [truncated]\"\n",
    "            formatted_text += f\"Full source content limited to {max_tokens_per_source} tokens: {raw_content}\\n\\n\"\n",
    "                \n",
    "    return formatted_text.strip()"
   ]
  },
  {
   "cell_type": "code",
   "execution_count": 2,
   "metadata": {},
   "outputs": [],
   "source": [
    "def format_sources(search_results):\n",
    "    \"\"\"Format search results into a bullet-point list of sources.\n",
    "    \n",
    "    Args:\n",
    "        search_results (dict): Tavily search response containing results\n",
    "        \n",
    "    Returns:\n",
    "        str: Formatted string with sources and their URLs\n",
    "    \"\"\"\n",
    "    return '\\n'.join(\n",
    "        f\"* {source['title']} : {source['url']}\"\n",
    "        for source in search_results['results']\n",
    "    )"
   ]
  },
  {
   "cell_type": "code",
   "execution_count": 3,
   "metadata": {},
   "outputs": [],
   "source": [
    "from tavily import TavilyClient\n",
    "\n",
    "# Initialize Tavily client with your API key\n",
    "TAVILY_API_KEY = \"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\"\n",
    "tavily_client = TavilyClient(api_key=TAVILY_API_KEY)\n"
   ]
  },
  {
   "cell_type": "code",
   "execution_count": 4,
   "metadata": {},
   "outputs": [],
   "source": [
    "@traceable\n",
    "def tavily_search(query, include_raw_content=True, max_results=3):\n",
    "    \"\"\" Search the web using the Tavily API.\n",
    "    \n",
    "    Args:\n",
    "        query (str): The search query to execute\n",
    "        include_raw_content (bool): Whether to include the raw_content from Tavily in the formatted string\n",
    "        max_results (int): Maximum number of results to return\n",
    "        \n",
    "    Returns:\n",
    "        dict: Tavily search response containing:\n",
    "            - results (list): List of search result dictionaries, each containing:\n",
    "                - title (str): Title of the search result\n",
    "                - url (str): URL of the search result\n",
    "                - content (str): Snippet/summary of the content\n",
    "                - raw_content (str): Full content of the page if available\"\"\"\n",
    "     \n",
    "    return tavily_client.search(query, \n",
    "                         max_results=max_results, \n",
    "                         include_raw_content=include_raw_content)"
   ]
  },
  {
   "cell_type": "code",
   "execution_count": 5,
   "metadata": {},
   "outputs": [],
   "source": [
    "from langchain_ollama import ChatOllama\n",
    "\n",
    "local_llm = \"gemma3:4b\"\n",
    "local_llm = \"llama3.2:latest\"\n",
    "\n",
    "llm = ChatOllama(model=local_llm, temperature=0)\n",
    "llm_json_mode = ChatOllama(model=local_llm, temperature=0, format=\"json\")"
   ]
  },
  {
   "cell_type": "code",
   "execution_count": 6,
   "metadata": {},
   "outputs": [],
   "source": [
    "import operator\n",
    "from dataclasses import dataclass, field\n",
    "from typing_extensions import TypedDict, Annotated, Literal\n",
    "\n",
    "@dataclass(kw_only=True)\n",
    "class SummaryState:\n",
    "    research_topic: str = field(default=None)\n",
    "    search_query: str = field(default=None)\n",
    "    web_research_results: Annotated[list, operator.add] = field(default_factory=list) \n",
    "    sources_gathered: Annotated[list, operator.add] = field(default_factory=list)\n",
    "    research_loop_count: int = field(default=0)\n",
    "    running_summary: str = field(default=None)\n",
    "\n",
    "@dataclass(kw_only=True)\n",
    "class SummaryStateInput(TypedDict):\n",
    "    research_topic: str = field(default=None)\n",
    "\n",
    "@dataclass(kw_only=True)\n",
    "class SummaryStateOutput(TypedDict):\n",
    "    running_summary: str = field(default=None)"
   ]
  },
  {
   "cell_type": "code",
   "execution_count": 7,
   "metadata": {},
   "outputs": [],
   "source": [
    "import json\n",
    "from langchain_core.runnables import RunnableConfig\n",
    "from langgraph.graph import START, END, StateGraph\n",
    "from langchain_core.messages import HumanMessage, SystemMessage\n",
    "from configuration import Configuration"
   ]
  },
  {
   "cell_type": "code",
   "execution_count": 8,
   "metadata": {},
   "outputs": [],
   "source": [
    "query_writer_instructions=\"\"\"Your goal is to generate targeted web search query.\n",
    "\n",
    "The query will gather information related to a specific topic.\n",
    "\n",
    "Topic:\n",
    "{research_topic}\n",
    "\n",
    "Return your query as a JSON object:\n",
    "{{\n",
    "    \"query\": \"string\",\n",
    "    \"aspect\": \"string\",\n",
    "    \"rationale\": \"string\"\n",
    "}}\n",
    "\"\"\""
   ]
  },
  {
   "cell_type": "code",
   "execution_count": 9,
   "metadata": {},
   "outputs": [],
   "source": [
    "summarizer_instructions=\"\"\"Your goal is to generate a high-quality summary of the web search results.\n",
    "\n",
    "When EXTENDING an existing summary:\n",
    "1. Seamlessly integrate new information without repeating what's already covered\n",
    "2. Maintain consistency with the existing content's style and depth\n",
    "3. Only add new, non-redundant information\n",
    "4. Ensure smooth transitions between existing and new content\n",
    "\n",
    "When creating a NEW summary:\n",
    "1. Highlight the most relevant information from each source\n",
    "2. Provide a concise overview of the key points related to the report topic\n",
    "3. Emphasize significant findings or insights\n",
    "4. Ensure a coherent flow of information\n",
    "\n",
    "In both cases:\n",
    "- Focus on factual, objective information\n",
    "- Maintain a consistent technical depth\n",
    "- Avoid redundancy and repetition\n",
    "- DO NOT use phrases like \"based on the new results\" or \"according to additional sources\"\n",
    "- DO NOT add a preamble like \"Here is an extended summary ...\" Just directly output the summary.\n",
    "- DO NOT add a References or Works Cited section.\n",
    "\"\"\""
   ]
  },
  {
   "cell_type": "code",
   "execution_count": 10,
   "metadata": {},
   "outputs": [],
   "source": [
    "reflection_instructions = \"\"\"You are an expert research assistant analyzing a summary about {research_topic}.\n",
    "\n",
    "Your tasks:\n",
    "1. Identify knowledge gaps or areas that need deeper exploration\n",
    "2. Generate a follow-up question that would help expand your understanding\n",
    "3. Focus on technical details, implementation specifics, or emerging trends that weren't fully covered\n",
    "\n",
    "Ensure the follow-up question is self-contained and includes necessary context for web search.\n",
    "\n",
    "Return your analysis as a JSON object:\n",
    "{{ \n",
    "    \"knowledge_gap\": \"string\",\n",
    "    \"follow_up_query\": \"string\"\n",
    "}}\"\"\""
   ]
  },
  {
   "cell_type": "code",
   "execution_count": 11,
   "metadata": {},
   "outputs": [],
   "source": [
    "def generate_query(state: SummaryState):\n",
    "    query_writer_instructions_formatted = query_writer_instructions.format(research_topic=state.research_topic)\n",
    "    result = llm_json_mode.invoke(\n",
    "        [SystemMessage(content=query_writer_instructions_formatted),\n",
    "         HumanMessage(content=f\"Generate a query for web search:\")]\n",
    "    )\n",
    "    query = json.loads(result.content)\n",
    "\n",
    "    return {\"search_query\": query['query']}"
   ]
  },
  {
   "cell_type": "code",
   "execution_count": 12,
   "metadata": {},
   "outputs": [],
   "source": [
    "def web_research(state: SummaryState):\n",
    "    search_results = tavily_search(state.search_query, include_raw_content=True, max_results=1)\n",
    "    search_str = deduplicate_and_format_sources(search_results, max_tokens_per_source=1000)\n",
    "\n",
    "    return {\"sources_gathered\": [format_sources(search_results)], \"research_loop_count\": state.research_loop_count + 1, \"web_research_results\": [search_str]}\n",
    "\n",
    "def summarize_sources(state: SummaryState):\n",
    "    existing_summary = state.running_summary\n",
    "    most_recent_web_research = state.web_research_results[-1]\n",
    "\n",
    "    if existing_summary:\n",
    "        human_message_content = (\n",
    "            f\"Extend the existing summary: {existing_summary}\\n\\n\"\n",
    "            f\"Include new search results: {most_recent_web_research}\"\n",
    "            f\"That addresses the following topic: {state.research_topic}\"\n",
    "        )\n",
    "    else:\n",
    "        human_message_content = (\n",
    "            f\"Generate a summary of these search results: {most_recent_web_research} \"\n",
    "            f\"That addresses the following topic: {state.research_topic}\"\n",
    "        )\n",
    " \n",
    "    result = llm.invoke(\n",
    "        [SystemMessage(content=summarizer_instructions),\n",
    "        HumanMessage(content=human_message_content)]\n",
    "    )\n",
    "\n",
    "    running_summary = result.content\n",
    "    return {\"running_summary\": running_summary}\n",
    "\n",
    "def reflect_on_summary(state: SummaryState):\n",
    "    result = llm_json_mode.invoke(\n",
    "        [SystemMessage(content=reflection_instructions.format(research_topic=state.research_topic)),\n",
    "        HumanMessage(content=f\"Identify a knowledge gap and generate a follow-up web search query based on our existing knowledge: {state.running_summary}\")]\n",
    "    )   \n",
    "    follow_up_query = json.loads(result.content)\n",
    "\n",
    "    return {\"search_query\": follow_up_query['follow_up_query']}\n",
    "\n",
    "def finalize_summary(state: SummaryState):\n",
    "    all_sources = \"\\n\".join(source for source in state.sources_gathered)\n",
    "    state.running_summary = f\"## Summary\\n\\n{state.running_summary}\\n\\n ### Sources:\\n{all_sources}\"\n",
    "    return {\"running_summary\": state.running_summary}\n",
    "\n",
    "def route_research(state: SummaryState, config: RunnableConfig) -> Literal[\"finalize_summary\", \"web_research\"]:\n",
    "    configurable = Configuration.from_runnable_config(config)\n",
    "    if state.research_loop_count <= configurable.max_web_research_loops:\n",
    "        return \"web_research\"\n",
    "    else:\n",
    "        return \"finalize_summary\" "
   ]
  },
  {
   "cell_type": "code",
   "execution_count": 13,
   "metadata": {},
   "outputs": [],
   "source": [
    "builder = StateGraph(SummaryState, input=SummaryStateInput, output=SummaryStateOutput, config_schema=Configuration)\n",
    "builder.add_node(\"generate_query\", generate_query)\n",
    "builder.add_node(\"web_research\", web_research)\n",
    "builder.add_node(\"summarize_sources\", summarize_sources)\n",
    "builder.add_node(\"reflect_on_summary\", reflect_on_summary)\n",
    "builder.add_node(\"finalize_summary\", finalize_summary)\n",
    "\n",
    "builder.add_edge(START, \"generate_query\")\n",
    "builder.add_edge(\"generate_query\", \"web_research\")\n",
    "builder.add_edge(\"web_research\", \"summarize_sources\")\n",
    "builder.add_edge(\"summarize_sources\", \"reflect_on_summary\")\n",
    "builder.add_conditional_edges(\"reflect_on_summary\", route_research)\n",
    "builder.add_edge(\"finalize_summary\", END)\n",
    "\n",
    "graph = builder.compile()\n"
   ]
  },
  {
   "cell_type": "code",
   "execution_count": 14,
   "metadata": {},
   "outputs": [
    {
     "data": {
      "image/png": "[encoded data removed]",
      "text/plain": [
       "<IPython.core.display.Image object>"
      ]
     },
     "metadata": {},
     "output_type": "display_data"
    }
   ],
   "source": [
    "from IPython.display import Image, display\n",
    "display(Image(graph.get_graph(xray=1).draw_mermaid_png()))"
   ]
  },
  {
   "cell_type": "code",
   "execution_count": 15,
   "metadata": {},
   "outputs": [
    {
     "name": "stdout",
     "output_type": "stream",
     "text": [
      "Warning: No raw_content found for source https://www.edx.org/certificates/professional-certificate/harvardx-data-science-and-machine-learning\n"
     ]
    }
   ],
   "source": [
    "research_input = SummaryStateInput(\n",
    "    research_topic=\"Overview of training for \"\n",
    ")\n",
    "summary = graph.invoke(research_input)"
   ]
  },
  {
   "cell_type": "code",
   "execution_count": 16,
   "metadata": {},
   "outputs": [
    {
     "data": {
      "text/markdown": [
       "## Summary\n",
       "\n",
       "Here is an extended summary:\n",
       "\n",
       "Forbes Advisor has identified six reputable online data science certificate programs, including HarvardX's Professional Certificate in Data Science and IBM's Data Science Professional Certificate. These programs cover essential topics such as R programming skills, statistical concepts, machine learning algorithms, and data science tools and concepts.\n",
       "\n",
       "The Forbes Advisor guide highlights the benefits of pursuing a data science certification, including enhanced job prospects and increased earning potential. The certifications are designed to provide students with a comprehensive understanding of data science principles and practices.\n",
       "\n",
       "HarvardX's Professional Certificate in Data Science is one such program that offers a comprehensive learning experience. The program consists of 9 skill-building courses that can be completed in 1 year and 5 months, with the option to progress at your own speed. The courses cover fundamental R programming skills, statistical concepts, machine learning algorithms, and data science tools and concepts.\n",
       "\n",
       "The program is designed by experts from Harvard University (HarvardX) and includes real-world case studies to jumpstart your career. The instructors are committed to teaching online learning, and the program offers a discounted price of $1,332.90 for the full program experience.\n",
       "\n",
       "In addition to HarvardX's Professional Certificate in Data Science, edX also offers a Data Science Professional Certificate that covers similar topics. This program is designed by Rafael Irizarry, Professor of Biostatistics at Harvard University, and includes courses on R basics, visualization, probability, inference and modeling, productivity tools, wrangling, linear regression, machine learning, and capstone.\n",
       "\n",
       "Both programs offer flexible learning options, including self-paced and expert instruction, and provide a comprehensive understanding of data science principles. According to recent job market trends, the demand for skilled data scientists is at an all-time high, with top tech companies such as Microsoft, Google, IBM, Amazon, and Facebook actively hiring talent to support their growing data-driven operations.\n",
       "\n",
       "In 2025, the field of data science is witnessing exciting opportunities, with data analysts, machine learning engineers, data architects, and other roles in high demand. According to a recent report, the top 10 data science positions currently in high demand include:\n",
       "\n",
       "1. Data Scientist: responsible for collecting, analyzing, and interpreting complex data to provide actionable insights that guide business decisions.\n",
       "2. Data Analyst: plays a critical role in cleaning, organizing, and preparing data for further analysis, with companies like Deloitte, Accenture, Capgemini, Infosys, and Wipro actively seeking candidates.\n",
       "3. Data Engineer: enables organizations through data infrastructure design to achieve faultless data gathering and database management and processing needs.\n",
       "4. Machine Learning Engineer: creates algorithms that enable machines to acquire knowledge from available data, with companies like NVIDIA, OpenAI, Salesforce, Adobe, and Spotify looking for experts to develop and deploy machine learning models.\n",
       "5. Data Architect: develops and improves data management systems, handling and storing data, with organizations relying on them to enforce data security standards.\n",
       "\n",
       "These roles are not only in high demand but also offer significant earning potential, making a career in data science an attractive option for those looking to stay ahead in the job market.\n",
       "\n",
       " ### Sources:\n",
       "* Best Data Science Certifications Of 2024 - Forbes Advisor : https://www.forbes.com/advisor/education/certifications/best-data-science-certifications/\n",
       "* Data Science Professional Certificate - edX : https://www.edx.org/certificates/professional-certificate/harvardx-data-science\n",
       "* Data Science and Machine Learning Professional Certificate - edX : https://www.edx.org/certificates/professional-certificate/harvardx-data-science-and-machine-learning\n",
       "* Top 10 In-Demand Data Science Jobs in 2025 - Analytics Insight : https://www.analyticsinsight.net/jobs/top-10-in-demand-data-science-jobs-in-2025"
      ],
      "text/plain": [
       "<IPython.core.display.Markdown object>"
      ]
     },
     "execution_count": 16,
     "metadata": {},
     "output_type": "execute_result"
    }
   ],
   "source": [
    "from IPython.display import Markdown\n",
    "Markdown(summary['running_summary'])"
   ]
  },
  {
   "cell_type": "code",
   "execution_count": 17,
   "metadata": {},
   "outputs": [],
   "source": [
    "research_input = SummaryStateInput(\n",
    "    research_topic=\"Who develop Qwen2.5?\"\n",
    ")\n",
    "summary = graph.invoke(research_input) "
   ]
  },
  {
   "cell_type": "code",
   "execution_count": 18,
   "metadata": {},
   "outputs": [
    {
     "data": {
      "text/markdown": [
       "## Summary\n",
       "\n",
       "Alibaba's Qwen 2.5 is a generative AI model that has been launched as a rival to DeepSeek-V3, a similar model developed by China-based company DeepSeek. According to Alibaba, Qwen 2.5 \"outperforms\" V3 in terms of performance metrics. The development team behind Qwen 2.5 is not explicitly mentioned in the provided text.\n",
       "\n",
       "However, it's worth noting that the article mentions that DeepSeek-V3 was trained using older Nvidia H800 GPU chips for less than $6 million, which is a significant cost savings compared to other models like Llama and Perplexity. This suggests that the development team behind DeepSeek may have used more affordable hardware to train their model.\n",
       "\n",
       "Additionally, the article raises concerns about potential risks associated with both Qwen 2.5 and DeepSeek-V3, including data security, privacy, and intellectual property theft. These issues are being raised due to similarities between the two models and the fact that they were developed by Chinese companies.\n",
       "\n",
       "The development team behind Qwen 2.5 is not explicitly mentioned in the provided text. However, a recent comparison of Qwen 2.5, DeepSeek, and ChatGPT highlights the capabilities and features of each model. According to Malvika Chawla's article on WordPress, Alibaba has unveiled an enhanced version of its artificial intelligence model, Qwen 2.5-Max, which surpasses leading models such as DeepSeek-V3, GPT-4o, and Llama-3.1-405B in various benchmarks.\n",
       "\n",
       "Qwen 2.5 supports an extended context length of up to 128,000 tokens and offers multilingual support across 29 languages, enhancing its versatility in various applications. The model includes a specialised variant, Qwen 2.5-Coder, which has demonstrated exceptional performance in coding benchmarks.\n",
       "\n",
       "In contrast, DeepSeek has disrupted the AI industry with its cost-effective approach, achieving performance comparable to leading models at a fraction of the cost. Utilising a 671-billion-parameter Mixture-of-Experts (MoE) architecture and advanced FP8 mixed-precision training, DeepSeek excels in task specialisation while maintaining resource efficiency.\n",
       "\n",
       "ChatGPT remains a benchmark in conversational AI, known for its comprehensive understanding and generation of human-like text. While specific performance metrics in coding and mathematical tasks are less emphasised, ChatGPT's versatility across a wide range of applications has solidified its position as a leading AI model.\n",
       "\n",
       "A comparative table of DeepSeek, ChatGPT, and Qwen 2.5 highlights their features, performance, efficiency, and cost. According to the article, each model brings unique strengths that cater to different applications within the domain of artificial intelligence.\n",
       "\n",
       " ### Sources:\n",
       "* GitHub - QwenLM/Qwen2.5: Qwen2.5 is the large language model series ... : https://github.com/QwenLM/Qwen2.5\n",
       "* Qwen2.5 Speed Benchmark - Qwen - Read the Docs : https://qwen.readthedocs.io/en/latest/benchmark/speed_benchmark.html\n",
       "* What Is Ali Baba's Qwen 2.5 AI Model, And How Does It Stacks Up? - Forbes : https://www.forbes.com/sites/torconstantino/2025/01/29/alibaba-unveils-qwen-25-a-deepseek-rival/\n",
       "* Comparing Qwen 2.5, DeepSeek, and ChatGPT: Performance, Efficiency, and ... : https://malvikachawla.wordpress.com/2025/01/29/qwen2-5/"
      ],
      "text/plain": [
       "<IPython.core.display.Markdown object>"
      ]
     },
     "execution_count": 18,
     "metadata": {},
     "output_type": "execute_result"
    }
   ],
   "source": [
    "from IPython.display import Markdown\n",
    "Markdown(summary['running_summary'])"
   ]
  },
  {
   "cell_type": "code",
   "execution_count": 19,
   "metadata": {},
   "outputs": [
    {
     "name": "stdout",
     "output_type": "stream",
     "text": [
      "Warning: No raw_content found for source https://www.sgi-network.org/2024/Governing_with_Foresight/Coordination/Quality_of_Horizontal_Coordination/Effective_Coordination_Mechanisms_within_the_Ministerial_Bureaucracy\n"
     ]
    },
    {
     "data": {
      "text/markdown": [
       "## Summary\n",
       "\n",
       "The portfolios of the Union Council of Ministers, led by Prime Minister Narendra Modi, are as follows:\n",
       "\n",
       "* Key Cabinet Ministers:\n",
       "\t+ Shri Amit Shah (Home Affairs and Cooperation)\n",
       "\t+ Smt. Nirmala Sitharaman (Finance and Corporate Affairs)\n",
       "\t+ Dr. Subrahmanyam Jaishankar (External Affairs)\n",
       "\t+ Shri Manohar Lal (Housing and Urban Affairs, Power)\n",
       "* Other notable Ministers:\n",
       "\t+ Shri Jagat Prakash Nadda (Health and Family Welfare, Chemicals and Fertilizers)\n",
       "\t+ Shri Shivraj Singh Chouhan (Agriculture and Farmers Welfare, Rural Development)\n",
       "\t+ Smt. Annpurna Devi (Minister of Women and Child Development)\n",
       "* Ministers of State (Independent Charge):\n",
       "\t+ Rao Inderjit Singh (Ministry of Statistics and Programme Implementation, Ministry of Planning, Ministry of Culture)\n",
       "\t+ Dr. Jitendra Singh (Ministry of Science and Technology, Ministry of Earth Sciences, Prime Minister's Office, Department of Atomic Energy, Department of Space)\n",
       "\t+ Shri Arjun Ram Meghwal (Ministry of Law and Justice, Ministry of Parliamentary Affairs)\n",
       "\t+ Shri Jadhav Prataprao Ganpatrao (Ministry of Ayush)\n",
       "\n",
       "The list of ministers includes 30 Cabinet Ministers, 4 Ministers of State with Additional Charges, and 7 Ministers of State (Independent Charge). The Prime Minister's Office is headed by Prime Minister Narendra Modi, who is also the leader of the National Democratic Alliance (NDA) and the Bharatiya Janata Party (BJP).\n",
       "\n",
       "The portfolios of the Union Council of Ministers are divided among various ministries, including:\n",
       "\n",
       "* Ministry of Home Affairs\n",
       "* Ministry of Finance\n",
       "* Ministry of External Affairs\n",
       "* Ministry of Housing and Urban Affairs\n",
       "* Ministry of Agriculture and Farmers Welfare\n",
       "* Ministry of Health and Family Welfare\n",
       "* Ministry of Education\n",
       "* Ministry of Micro, Small and Medium Enterprises\n",
       "* Ministry of Panchayati Raj\n",
       "* Ministry of Ports, Shipping and Waterways\n",
       "* Ministry of Social Justice and Empowerment\n",
       "* Ministry of Civil Aviation\n",
       "* Ministry of Consumer Affairs, Food and Public Distribution\n",
       "* Ministry of Tribal Affairs\n",
       "* Ministry of Textiles\n",
       "* Ministry of Railways\n",
       "* Ministry of Information and Broadcasting\n",
       "* Ministry of Electronics and Information Technology\n",
       "* Ministry of Communications\n",
       "* Ministry of Environment, Forest and Climate Change\n",
       "* Ministry of Culture\n",
       "* Ministry of Women and Child Development\n",
       "* Ministry of Parliamentary Affairs\n",
       "* Ministry of Minority Affairs\n",
       "* Ministry of Petroleum and Natural Gas\n",
       "* Ministry of Labour and Employment\n",
       "* Ministry of Coal\n",
       "* Ministry of Food Processing Industries\n",
       "* Ministry of Jal Shakti\n",
       "\n",
       "A recent analysis by the SGI Network highlights the importance of effective coordination mechanisms within the ministerial bureaucracy. The Prime Minister's Office plays a crucial role in coordinating the government's analysis, assessment, and research activities that support policymaking across ministries. This collective decision-making process relies on consensual collaboration among ministers, making it essential for ministry attempts to place items on the cabinet's agenda without involving the PMO to fail.\n",
       "\n",
       "This emphasis on coordination underscores the need for a well-oiled machinery of governance, where each ministerial department works in tandem with others to achieve common goals. By leveraging effective coordination mechanisms, the government can optimize its policymaking processes and ensure that decisions are made in a collective and consensual manner.\n",
       "\n",
       " ### Sources:\n",
       "* Portfolios of the Union Council of Ministers - Prime Minister of India : https://www.pmindia.gov.in/en/news_updates/portfolios-of-the-union-council-of-ministers-2/\n",
       "* Portfolios of the Union Council of Ministers - Prime Minister of India : https://www.pmindia.gov.in/en/news_updates/portfolios-of-the-union-council-of-ministers-2/\n",
       "* Portfolios of the Union Council of Ministers - Prime Minister of India : https://www.pmindia.gov.in/en/news_updates/portfolios-of-the-union-council-of-ministers-2/\n",
       "* SGI 2024 | Governing with Foresight | Coordination | Quality of ... : https://www.sgi-network.org/2024/Governing_with_Foresight/Coordination/Quality_of_Horizontal_Coordination/Effective_Coordination_Mechanisms_within_the_Ministerial_Bureaucracy"
      ],
      "text/plain": [
       "<IPython.core.display.Markdown object>"
      ]
     },
     "execution_count": 19,
     "metadata": {},
     "output_type": "execute_result"
    }
   ],
   "source": [
    "research_input = SummaryStateInput(\n",
    "    research_topic=\"Prime minister of India\"\n",
    ")\n",
    "summary = graph.invoke(research_input) \n",
    "Markdown(summary['running_summary'])"
   ]
  },
  {
   "cell_type": "code",
   "execution_count": 20,
   "metadata": {},
   "outputs": [
    {
     "name": "stdout",
     "output_type": "stream",
     "text": [
      "Warning: No raw_content found for source https://www.jstor.org/stable/j.ctv10h9fqz\n"
     ]
    },
    {
     "data": {
      "text/markdown": [
       "## Summary\n",
       "\n",
       "Indian mathematics emerged in the Indian subcontinent around 1200 BCE and continued until the end of the 18th century, leaving a rich legacy of contributions to various branches of mathematics. The decimal number system, concept of zero as a number, negative numbers, arithmetic, algebra, and trigonometry were all developed by Indian mathematicians.\n",
       "\n",
       "One of the most significant contributions of Indian mathematics is the development of calculus. Madhava, an Indian mathematician from the Kerala School, is credited with deriving the power series for sine and cosine in the 15th century. This was over 300 years before the development of calculus in Europe. The power series for sine and cosine are similar to the modern Taylor Series, but use a slightly different approach to find divisor values.\n",
       "\n",
       "The Kerala School of mathematics also produced many great works in trigonometry during the 15th through 18th centuries. Indian mathematicians made significant contributions to the field of trigonometry, including the development of infinite series and the use of a base ten decimal system.\n",
       "\n",
       "Indian mathematics also made significant contributions to algebra. The concept of zero as a number was developed by Indian mathematicians, which allowed for the creation of algebraic equations and solutions. Indian mathematicians also developed methods for solving quadratic equations, which were later adopted by European mathematicians.\n",
       "\n",
       "The development of calculus in India is a topic of ongoing debate among historians of mathematics. Some argue that Indian mathematicians had a solid understanding of the basics of calculus long before it was developed in Europe. Others argue that the ideas of calculus were transmitted from India to Europe through trade and cultural exchange.\n",
       "\n",
       "Despite the controversy surrounding the origins of calculus, it is undeniable that Indian mathematics made significant contributions to the development of mathematics in general. The legacy of Indian mathematics continues to be felt today, with many mathematicians around the world drawing on the work of Indian mathematicians for inspiration and guidance.\n",
       "\n",
       "In recent years, there has been a growing recognition of the importance of Indian mathematics in the history of mathematics. This includes the establishment of the Indian Institute of Science (IISc) in 1909, which is one of the oldest and most prestigious research institutions in India. The IISc has played a significant role in promoting research in mathematics and science in India, and has helped to establish India as a major player in the global mathematical community.\n",
       "\n",
       "Overall, Indian mathematics is a rich and fascinating field that continues to inspire mathematicians around the world. From the development of calculus to algebra and trigonometry, Indian mathematicians have made significant contributions to the history of mathematics. Their legacy continues to be felt today, and their work remains an important part of the mathematical canon.\n",
       "\n",
       "Sources:\n",
       "\n",
       "* The Mathematics Enthusiast: Vol. 11 : No. 3 , Article 5\n",
       "* Phoebe Webb (2014) \"The development of Calculus in the Kerala School,\" The Mathematics Enthusiast: Vol. 11 : No. 3 , Article 5.\n",
       "* The Indian Institute of Science (IISc)\n",
       "* The History of Mathematics\n",
       "\n",
       "Note: The above text is a summary of the topic Indian Mathematics and its contributions to various branches of mathematics, including calculus, algebra, and trigonometry. It also mentions the controversy surrounding the origins of calculus and the importance of recognizing the legacy of Indian mathematics in the history of mathematics.\n",
       "\n",
       " ### Sources:\n",
       "* Indian mathematics - Wikipedia : https://en.wikipedia.org/wiki/Indian_mathematics\n",
       "* History of measurement systems in India - Wikipedia : https://en.wikipedia.org/wiki/History_of_measurement_systems_in_India\n",
       "* Decolonising Science, Technology, Engineering and Mathematics ... - JSTOR : https://www.jstor.org/stable/j.ctv10h9fqz\n",
       "* The development of Calculus in the Kerala School : https://scholarworks.umt.edu/cgi/viewcontent.cgi?article=1314&context=tme"
      ],
      "text/plain": [
       "<IPython.core.display.Markdown object>"
      ]
     },
     "execution_count": 20,
     "metadata": {},
     "output_type": "execute_result"
    }
   ],
   "source": [
    "research_input = SummaryStateInput(\n",
    "    research_topic=\"Indian Mathematics\"\n",
    ")\n",
    "summary = graph.invoke(research_input) \n",
    "Markdown(summary['running_summary'])"
   ]
  },
  {
   "cell_type": "code",
   "execution_count": 1,
   "metadata": {},
   "outputs": [],
   "source": [
    "!pip install gradio -q"
   ]
  },
  {
   "cell_type": "code",
   "execution_count": 3,
   "metadata": {},
   "outputs": [
    {
     "ename": "JSONDecodeError",
     "evalue": "Unterminated string starting at: line 3 column 23 (char 458)",
     "output_type": "error",
     "traceback": [
      "\u001b[1;31m---------------------------------------------------------------------------\u001b[0m",
      "\u001b[1;31mJSONDecodeError\u001b[0m                           Traceback (most recent call last)",
      "Cell \u001b[1;32mIn[3], line 2\u001b[0m\n\u001b[0;32m      1\u001b[0m \u001b[38;5;28;01mimport\u001b[39;00m \u001b[38;5;21;01mgradio\u001b[39;00m \u001b[38;5;28;01mas\u001b[39;00m \u001b[38;5;21;01mgr\u001b[39;00m\n\u001b[1;32m----> 2\u001b[0m \u001b[38;5;28;01mfrom\u001b[39;00m \u001b[38;5;21;01mtest_deep\u001b[39;00m \u001b[38;5;28;01mimport\u001b[39;00m (\n\u001b[0;32m      3\u001b[0m     SummaryState,\n\u001b[0;32m      4\u001b[0m     generate_query,\n\u001b[0;32m      5\u001b[0m     web_research,\n\u001b[0;32m      6\u001b[0m     summarize_sources,\n\u001b[0;32m      7\u001b[0m     reflect_on_summary,\n\u001b[0;32m      8\u001b[0m     finalize_summary\n\u001b[0;32m      9\u001b[0m )\n\u001b[0;32m     11\u001b[0m \u001b[38;5;28;01mdef\u001b[39;00m \u001b[38;5;21mrun_deep_researcher\u001b[39m(topic: \u001b[38;5;28mstr\u001b[39m, loops: \u001b[38;5;28mint\u001b[39m \u001b[38;5;241m=\u001b[39m \u001b[38;5;241m2\u001b[39m):\n\u001b[0;32m     12\u001b[0m     state \u001b[38;5;241m=\u001b[39m SummaryState(research_topic\u001b[38;5;241m=\u001b[39mtopic)\n",
      "File \u001b[1;32md:\\ProjHack\\Deep-Researcher\\test_deep.py:261\u001b[0m\n\u001b[0;32m    255\u001b[0m graph \u001b[38;5;241m=\u001b[39m builder\u001b[38;5;241m.\u001b[39mcompile()\n\u001b[0;32m    258\u001b[0m research_input \u001b[38;5;241m=\u001b[39m SummaryStateInput(\n\u001b[0;32m    259\u001b[0m     research_topic\u001b[38;5;241m=\u001b[39m\u001b[38;5;124m\"\u001b[39m\u001b[38;5;124mPrime minister of India\u001b[39m\u001b[38;5;124m\"\u001b[39m\n\u001b[0;32m    260\u001b[0m )\n\u001b[1;32m--> 261\u001b[0m summary \u001b[38;5;241m=\u001b[39m \u001b[43mgraph\u001b[49m\u001b[38;5;241;43m.\u001b[39;49m\u001b[43minvoke\u001b[49m\u001b[43m(\u001b[49m\u001b[43mresearch_input\u001b[49m\u001b[43m)\u001b[49m \n\u001b[0;32m    262\u001b[0m \u001b[38;5;28;01mfrom\u001b[39;00m \u001b[38;5;21;01mIPython\u001b[39;00m\u001b[38;5;21;01m.\u001b[39;00m\u001b[38;5;21;01mdisplay\u001b[39;00m \u001b[38;5;28;01mimport\u001b[39;00m Markdown\n\u001b[0;32m    263\u001b[0m Markdown(summary[\u001b[38;5;124m'\u001b[39m\u001b[38;5;124mrunning_summary\u001b[39m\u001b[38;5;124m'\u001b[39m])\n",
      "File \u001b[1;32md:\\ProjHack\\Email Research Agent\\emailassis\\Lib\\site-packages\\langgraph\\pregel\\__init__.py:2676\u001b[0m, in \u001b[0;36mPregel.invoke\u001b[1;34m(self, input, config, stream_mode, output_keys, interrupt_before, interrupt_after, debug, **kwargs)\u001b[0m\n\u001b[0;32m   2674\u001b[0m \u001b[38;5;28;01melse\u001b[39;00m:\n\u001b[0;32m   2675\u001b[0m     chunks \u001b[38;5;241m=\u001b[39m []\n\u001b[1;32m-> 2676\u001b[0m \u001b[43m\u001b[49m\u001b[38;5;28;43;01mfor\u001b[39;49;00m\u001b[43m \u001b[49m\u001b[43mchunk\u001b[49m\u001b[43m \u001b[49m\u001b[38;5;129;43;01min\u001b[39;49;00m\u001b[43m \u001b[49m\u001b[38;5;28;43mself\u001b[39;49m\u001b[38;5;241;43m.\u001b[39;49m\u001b[43mstream\u001b[49m\u001b[43m(\u001b[49m\n\u001b[0;32m   2677\u001b[0m \u001b[43m    \u001b[49m\u001b[38;5;28;43minput\u001b[39;49m\u001b[43m,\u001b[49m\n\u001b[0;32m   2678\u001b[0m \u001b[43m    \u001b[49m\u001b[43mconfig\u001b[49m\u001b[43m,\u001b[49m\n\u001b[0;32m   2679\u001b[0m \u001b[43m    \u001b[49m\u001b[43mstream_mode\u001b[49m\u001b[38;5;241;43m=\u001b[39;49m\u001b[43mstream_mode\u001b[49m\u001b[43m,\u001b[49m\n\u001b[0;32m   2680\u001b[0m \u001b[43m    \u001b[49m\u001b[43moutput_keys\u001b[49m\u001b[38;5;241;43m=\u001b[39;49m\u001b[43moutput_keys\u001b[49m\u001b[43m,\u001b[49m\n\u001b[0;32m   2681\u001b[0m \u001b[43m    \u001b[49m\u001b[43minterrupt_before\u001b[49m\u001b[38;5;241;43m=\u001b[39;49m\u001b[43minterrupt_before\u001b[49m\u001b[43m,\u001b[49m\n\u001b[0;32m   2682\u001b[0m \u001b[43m    \u001b[49m\u001b[43minterrupt_after\u001b[49m\u001b[38;5;241;43m=\u001b[39;49m\u001b[43minterrupt_after\u001b[49m\u001b[43m,\u001b[49m\n\u001b[0;32m   2683\u001b[0m \u001b[43m    \u001b[49m\u001b[43mdebug\u001b[49m\u001b[38;5;241;43m=\u001b[39;49m\u001b[43mdebug\u001b[49m\u001b[43m,\u001b[49m\n\u001b[0;32m   2684\u001b[0m \u001b[43m    \u001b[49m\u001b[38;5;241;43m*\u001b[39;49m\u001b[38;5;241;43m*\u001b[39;49m\u001b[43mkwargs\u001b[49m\u001b[43m,\u001b[49m\n\u001b[0;32m   2685\u001b[0m \u001b[43m\u001b[49m\u001b[43m)\u001b[49m\u001b[43m:\u001b[49m\n\u001b[0;32m   2686\u001b[0m \u001b[43m    \u001b[49m\u001b[38;5;28;43;01mif\u001b[39;49;00m\u001b[43m \u001b[49m\u001b[43mstream_mode\u001b[49m\u001b[43m \u001b[49m\u001b[38;5;241;43m==\u001b[39;49m\u001b[43m \u001b[49m\u001b[38;5;124;43m\"\u001b[39;49m\u001b[38;5;124;43mvalues\u001b[39;49m\u001b[38;5;124;43m\"\u001b[39;49m\u001b[43m:\u001b[49m\n\u001b[0;32m   2687\u001b[0m \u001b[43m        \u001b[49m\u001b[43mlatest\u001b[49m\u001b[43m \u001b[49m\u001b[38;5;241;43m=\u001b[39;49m\u001b[43m \u001b[49m\u001b[43mchunk\u001b[49m\n",
      "File \u001b[1;32md:\\ProjHack\\Email Research Agent\\emailassis\\Lib\\site-packages\\langgraph\\pregel\\__init__.py:2324\u001b[0m, in \u001b[0;36mPregel.stream\u001b[1;34m(self, input, config, stream_mode, output_keys, interrupt_before, interrupt_after, debug, subgraphs)\u001b[0m\n\u001b[0;32m   2318\u001b[0m     \u001b[38;5;66;03m# Similarly to Bulk Synchronous Parallel / Pregel model\u001b[39;00m\n\u001b[0;32m   2319\u001b[0m     \u001b[38;5;66;03m# computation proceeds in steps, while there are channel updates.\u001b[39;00m\n\u001b[0;32m   2320\u001b[0m     \u001b[38;5;66;03m# Channel updates from step N are only visible in step N+1\u001b[39;00m\n\u001b[0;32m   2321\u001b[0m     \u001b[38;5;66;03m# channels are guaranteed to be immutable for the duration of the step,\u001b[39;00m\n\u001b[0;32m   2322\u001b[0m     \u001b[38;5;66;03m# with channel updates applied only at the transition between steps.\u001b[39;00m\n\u001b[0;32m   2323\u001b[0m     \u001b[38;5;28;01mwhile\u001b[39;00m loop\u001b[38;5;241m.\u001b[39mtick(input_keys\u001b[38;5;241m=\u001b[39m\u001b[38;5;28mself\u001b[39m\u001b[38;5;241m.\u001b[39minput_channels):\n\u001b[1;32m-> 2324\u001b[0m \u001b[43m        \u001b[49m\u001b[38;5;28;43;01mfor\u001b[39;49;00m\u001b[43m \u001b[49m\u001b[43m_\u001b[49m\u001b[43m \u001b[49m\u001b[38;5;129;43;01min\u001b[39;49;00m\u001b[43m \u001b[49m\u001b[43mrunner\u001b[49m\u001b[38;5;241;43m.\u001b[39;49m\u001b[43mtick\u001b[49m\u001b[43m(\u001b[49m\n\u001b[0;32m   2325\u001b[0m \u001b[43m            \u001b[49m\u001b[43mloop\u001b[49m\u001b[38;5;241;43m.\u001b[39;49m\u001b[43mtasks\u001b[49m\u001b[38;5;241;43m.\u001b[39;49m\u001b[43mvalues\u001b[49m\u001b[43m(\u001b[49m\u001b[43m)\u001b[49m\u001b[43m,\u001b[49m\n\u001b[0;32m   2326\u001b[0m \u001b[43m            \u001b[49m\u001b[43mtimeout\u001b[49m\u001b[38;5;241;43m=\u001b[39;49m\u001b[38;5;28;43mself\u001b[39;49m\u001b[38;5;241;43m.\u001b[39;49m\u001b[43mstep_timeout\u001b[49m\u001b[43m,\u001b[49m\n\u001b[0;32m   2327\u001b[0m \u001b[43m            \u001b[49m\u001b[43mretry_policy\u001b[49m\u001b[38;5;241;43m=\u001b[39;49m\u001b[38;5;28;43mself\u001b[39;49m\u001b[38;5;241;43m.\u001b[39;49m\u001b[43mretry_policy\u001b[49m\u001b[43m,\u001b[49m\n\u001b[0;32m   2328\u001b[0m \u001b[43m            \u001b[49m\u001b[43mget_waiter\u001b[49m\u001b[38;5;241;43m=\u001b[39;49m\u001b[43mget_waiter\u001b[49m\u001b[43m,\u001b[49m\n\u001b[0;32m   2329\u001b[0m \u001b[43m        \u001b[49m\u001b[43m)\u001b[49m\u001b[43m:\u001b[49m\n\u001b[0;32m   2330\u001b[0m \u001b[43m            \u001b[49m\u001b[38;5;66;43;03m# emit output\u001b[39;49;00m\n\u001b[0;32m   2331\u001b[0m \u001b[43m            \u001b[49m\u001b[38;5;28;43;01myield from\u001b[39;49;00m\u001b[43m \u001b[49m\u001b[43moutput\u001b[49m\u001b[43m(\u001b[49m\u001b[43m)\u001b[49m\n\u001b[0;32m   2332\u001b[0m \u001b[38;5;66;03m# emit output\u001b[39;00m\n",
      "File \u001b[1;32md:\\ProjHack\\Email Research Agent\\emailassis\\Lib\\site-packages\\langgraph\\pregel\\runner.py:158\u001b[0m, in \u001b[0;36mPregelRunner.tick\u001b[1;34m(self, tasks, reraise, timeout, retry_policy, get_waiter)\u001b[0m\n\u001b[0;32m    156\u001b[0m t \u001b[38;5;241m=\u001b[39m tasks[\u001b[38;5;241m0\u001b[39m]\n\u001b[0;32m    157\u001b[0m \u001b[38;5;28;01mtry\u001b[39;00m:\n\u001b[1;32m--> 158\u001b[0m     \u001b[43mrun_with_retry\u001b[49m\u001b[43m(\u001b[49m\n\u001b[0;32m    159\u001b[0m \u001b[43m        \u001b[49m\u001b[43mt\u001b[49m\u001b[43m,\u001b[49m\n\u001b[0;32m    160\u001b[0m \u001b[43m        \u001b[49m\u001b[43mretry_policy\u001b[49m\u001b[43m,\u001b[49m\n\u001b[0;32m    161\u001b[0m \u001b[43m        \u001b[49m\u001b[43mconfigurable\u001b[49m\u001b[38;5;241;43m=\u001b[39;49m\u001b[43m{\u001b[49m\n\u001b[0;32m    162\u001b[0m \u001b[43m            \u001b[49m\u001b[43mCONFIG_KEY_CALL\u001b[49m\u001b[43m:\u001b[49m\u001b[43m \u001b[49m\u001b[43mpartial\u001b[49m\u001b[43m(\u001b[49m\n\u001b[0;32m    163\u001b[0m \u001b[43m                \u001b[49m\u001b[43m_call\u001b[49m\u001b[43m,\u001b[49m\n\u001b[0;32m    164\u001b[0m \u001b[43m                \u001b[49m\u001b[43mweakref\u001b[49m\u001b[38;5;241;43m.\u001b[39;49m\u001b[43mref\u001b[49m\u001b[43m(\u001b[49m\u001b[43mt\u001b[49m\u001b[43m)\u001b[49m\u001b[43m,\u001b[49m\n\u001b[0;32m    165\u001b[0m \u001b[43m                \u001b[49m\u001b[43mretry\u001b[49m\u001b[38;5;241;43m=\u001b[39;49m\u001b[43mretry_policy\u001b[49m\u001b[43m,\u001b[49m\n\u001b[0;32m    166\u001b[0m \u001b[43m                \u001b[49m\u001b[43mfutures\u001b[49m\u001b[38;5;241;43m=\u001b[39;49m\u001b[43mweakref\u001b[49m\u001b[38;5;241;43m.\u001b[39;49m\u001b[43mref\u001b[49m\u001b[43m(\u001b[49m\u001b[43mfutures\u001b[49m\u001b[43m)\u001b[49m\u001b[43m,\u001b[49m\n\u001b[0;32m    167\u001b[0m \u001b[43m                \u001b[49m\u001b[43mschedule_task\u001b[49m\u001b[38;5;241;43m=\u001b[39;49m\u001b[38;5;28;43mself\u001b[39;49m\u001b[38;5;241;43m.\u001b[39;49m\u001b[43mschedule_task\u001b[49m\u001b[43m,\u001b[49m\n\u001b[0;32m    168\u001b[0m \u001b[43m                \u001b[49m\u001b[43msubmit\u001b[49m\u001b[38;5;241;43m=\u001b[39;49m\u001b[38;5;28;43mself\u001b[39;49m\u001b[38;5;241;43m.\u001b[39;49m\u001b[43msubmit\u001b[49m\u001b[43m,\u001b[49m\n\u001b[0;32m    169\u001b[0m \u001b[43m                \u001b[49m\u001b[43mreraise\u001b[49m\u001b[38;5;241;43m=\u001b[39;49m\u001b[43mreraise\u001b[49m\u001b[43m,\u001b[49m\n\u001b[0;32m    170\u001b[0m \u001b[43m            \u001b[49m\u001b[43m)\u001b[49m\u001b[43m,\u001b[49m\n\u001b[0;32m    171\u001b[0m \u001b[43m        \u001b[49m\u001b[43m}\u001b[49m\u001b[43m,\u001b[49m\n\u001b[0;32m    172\u001b[0m \u001b[43m    \u001b[49m\u001b[43m)\u001b[49m\n\u001b[0;32m    173\u001b[0m     \u001b[38;5;28mself\u001b[39m\u001b[38;5;241m.\u001b[39mcommit(t, \u001b[38;5;28;01mNone\u001b[39;00m)\n\u001b[0;32m    174\u001b[0m \u001b[38;5;28;01mexcept\u001b[39;00m \u001b[38;5;167;01mException\u001b[39;00m \u001b[38;5;28;01mas\u001b[39;00m exc:\n",
      "File \u001b[1;32md:\\ProjHack\\Email Research Agent\\emailassis\\Lib\\site-packages\\langgraph\\pregel\\retry.py:40\u001b[0m, in \u001b[0;36mrun_with_retry\u001b[1;34m(task, retry_policy, configurable)\u001b[0m\n\u001b[0;32m     38\u001b[0m     task\u001b[38;5;241m.\u001b[39mwrites\u001b[38;5;241m.\u001b[39mclear()\n\u001b[0;32m     39\u001b[0m     \u001b[38;5;66;03m# run the task\u001b[39;00m\n\u001b[1;32m---> 40\u001b[0m     \u001b[38;5;28;01mreturn\u001b[39;00m \u001b[43mtask\u001b[49m\u001b[38;5;241;43m.\u001b[39;49m\u001b[43mproc\u001b[49m\u001b[38;5;241;43m.\u001b[39;49m\u001b[43minvoke\u001b[49m\u001b[43m(\u001b[49m\u001b[43mtask\u001b[49m\u001b[38;5;241;43m.\u001b[39;49m\u001b[43minput\u001b[49m\u001b[43m,\u001b[49m\u001b[43m \u001b[49m\u001b[43mconfig\u001b[49m\u001b[43m)\u001b[49m\n\u001b[0;32m     41\u001b[0m \u001b[38;5;28;01mexcept\u001b[39;00m ParentCommand \u001b[38;5;28;01mas\u001b[39;00m exc:\n\u001b[0;32m     42\u001b[0m     ns: \u001b[38;5;28mstr\u001b[39m \u001b[38;5;241m=\u001b[39m config[CONF][CONFIG_KEY_CHECKPOINT_NS]\n",
      "File \u001b[1;32md:\\ProjHack\\Email Research Agent\\emailassis\\Lib\\site-packages\\langgraph\\utils\\runnable.py:606\u001b[0m, in \u001b[0;36mRunnableSeq.invoke\u001b[1;34m(self, input, config, **kwargs)\u001b[0m\n\u001b[0;32m    602\u001b[0m config \u001b[38;5;241m=\u001b[39m patch_config(\n\u001b[0;32m    603\u001b[0m     config, callbacks\u001b[38;5;241m=\u001b[39mrun_manager\u001b[38;5;241m.\u001b[39mget_child(\u001b[38;5;124mf\u001b[39m\u001b[38;5;124m\"\u001b[39m\u001b[38;5;124mseq:step:\u001b[39m\u001b[38;5;132;01m{\u001b[39;00mi\u001b[38;5;250m \u001b[39m\u001b[38;5;241m+\u001b[39m\u001b[38;5;250m \u001b[39m\u001b[38;5;241m1\u001b[39m\u001b[38;5;132;01m}\u001b[39;00m\u001b[38;5;124m\"\u001b[39m)\n\u001b[0;32m    604\u001b[0m )\n\u001b[0;32m    605\u001b[0m \u001b[38;5;28;01mif\u001b[39;00m i \u001b[38;5;241m==\u001b[39m \u001b[38;5;241m0\u001b[39m:\n\u001b[1;32m--> 606\u001b[0m     \u001b[38;5;28minput\u001b[39m \u001b[38;5;241m=\u001b[39m \u001b[43mstep\u001b[49m\u001b[38;5;241;43m.\u001b[39;49m\u001b[43minvoke\u001b[49m\u001b[43m(\u001b[49m\u001b[38;5;28;43minput\u001b[39;49m\u001b[43m,\u001b[49m\u001b[43m \u001b[49m\u001b[43mconfig\u001b[49m\u001b[43m,\u001b[49m\u001b[43m \u001b[49m\u001b[38;5;241;43m*\u001b[39;49m\u001b[38;5;241;43m*\u001b[39;49m\u001b[43mkwargs\u001b[49m\u001b[43m)\u001b[49m\n\u001b[0;32m    607\u001b[0m \u001b[38;5;28;01melse\u001b[39;00m:\n\u001b[0;32m    608\u001b[0m     \u001b[38;5;28minput\u001b[39m \u001b[38;5;241m=\u001b[39m step\u001b[38;5;241m.\u001b[39minvoke(\u001b[38;5;28minput\u001b[39m, config)\n",
      "File \u001b[1;32md:\\ProjHack\\Email Research Agent\\emailassis\\Lib\\site-packages\\langgraph\\utils\\runnable.py:371\u001b[0m, in \u001b[0;36mRunnableCallable.invoke\u001b[1;34m(self, input, config, **kwargs)\u001b[0m\n\u001b[0;32m    369\u001b[0m \u001b[38;5;28;01melse\u001b[39;00m:\n\u001b[0;32m    370\u001b[0m     \u001b[38;5;28;01mwith\u001b[39;00m set_config_context(config) \u001b[38;5;28;01mas\u001b[39;00m context:\n\u001b[1;32m--> 371\u001b[0m         ret \u001b[38;5;241m=\u001b[39m \u001b[43mcontext\u001b[49m\u001b[38;5;241;43m.\u001b[39;49m\u001b[43mrun\u001b[49m\u001b[43m(\u001b[49m\u001b[38;5;28;43mself\u001b[39;49m\u001b[38;5;241;43m.\u001b[39;49m\u001b[43mfunc\u001b[49m\u001b[43m,\u001b[49m\u001b[43m \u001b[49m\u001b[38;5;241;43m*\u001b[39;49m\u001b[43margs\u001b[49m\u001b[43m,\u001b[49m\u001b[43m \u001b[49m\u001b[38;5;241;43m*\u001b[39;49m\u001b[38;5;241;43m*\u001b[39;49m\u001b[43mkwargs\u001b[49m\u001b[43m)\u001b[49m\n\u001b[0;32m    372\u001b[0m \u001b[38;5;28;01mif\u001b[39;00m \u001b[38;5;28misinstance\u001b[39m(ret, Runnable) \u001b[38;5;129;01mand\u001b[39;00m \u001b[38;5;28mself\u001b[39m\u001b[38;5;241m.\u001b[39mrecurse:\n\u001b[0;32m    373\u001b[0m     \u001b[38;5;28;01mreturn\u001b[39;00m ret\u001b[38;5;241m.\u001b[39minvoke(\u001b[38;5;28minput\u001b[39m, config)\n",
      "File \u001b[1;32md:\\ProjHack\\Deep-Researcher\\test_deep.py:225\u001b[0m, in \u001b[0;36mreflect_on_summary\u001b[1;34m(state)\u001b[0m\n\u001b[0;32m    220\u001b[0m \u001b[38;5;28;01mdef\u001b[39;00m \u001b[38;5;21mreflect_on_summary\u001b[39m(state: SummaryState):\n\u001b[0;32m    221\u001b[0m     result \u001b[38;5;241m=\u001b[39m llm_json_mode\u001b[38;5;241m.\u001b[39minvoke(\n\u001b[0;32m    222\u001b[0m         [SystemMessage(content\u001b[38;5;241m=\u001b[39mreflection_instructions\u001b[38;5;241m.\u001b[39mformat(research_topic\u001b[38;5;241m=\u001b[39mstate\u001b[38;5;241m.\u001b[39mresearch_topic)),\n\u001b[0;32m    223\u001b[0m         HumanMessage(content\u001b[38;5;241m=\u001b[39m\u001b[38;5;124mf\u001b[39m\u001b[38;5;124m\"\u001b[39m\u001b[38;5;124mIdentify a knowledge gap and generate a follow-up web search query based on our existing knowledge: \u001b[39m\u001b[38;5;132;01m{\u001b[39;00mstate\u001b[38;5;241m.\u001b[39mrunning_summary\u001b[38;5;132;01m}\u001b[39;00m\u001b[38;5;124m\"\u001b[39m)]\n\u001b[0;32m    224\u001b[0m     )   \n\u001b[1;32m--> 225\u001b[0m     follow_up_query \u001b[38;5;241m=\u001b[39m \u001b[43mjson\u001b[49m\u001b[38;5;241;43m.\u001b[39;49m\u001b[43mloads\u001b[49m\u001b[43m(\u001b[49m\u001b[43mresult\u001b[49m\u001b[38;5;241;43m.\u001b[39;49m\u001b[43mcontent\u001b[49m\u001b[43m)\u001b[49m\n\u001b[0;32m    227\u001b[0m     \u001b[38;5;28;01mreturn\u001b[39;00m {\u001b[38;5;124m\"\u001b[39m\u001b[38;5;124msearch_query\u001b[39m\u001b[38;5;124m\"\u001b[39m: follow_up_query[\u001b[38;5;124m'\u001b[39m\u001b[38;5;124mfollow_up_query\u001b[39m\u001b[38;5;124m'\u001b[39m]}\n",
      "File \u001b[1;32md:\\ProjHack\\Email Research Agent\\emailassis\\Lib\\json\\__init__.py:346\u001b[0m, in \u001b[0;36mloads\u001b[1;34m(s, cls, object_hook, parse_float, parse_int, parse_constant, object_pairs_hook, **kw)\u001b[0m\n\u001b[0;32m    341\u001b[0m     s \u001b[38;5;241m=\u001b[39m s\u001b[38;5;241m.\u001b[39mdecode(detect_encoding(s), \u001b[38;5;124m'\u001b[39m\u001b[38;5;124msurrogatepass\u001b[39m\u001b[38;5;124m'\u001b[39m)\n\u001b[0;32m    343\u001b[0m \u001b[38;5;28;01mif\u001b[39;00m (\u001b[38;5;28mcls\u001b[39m \u001b[38;5;129;01mis\u001b[39;00m \u001b[38;5;28;01mNone\u001b[39;00m \u001b[38;5;129;01mand\u001b[39;00m object_hook \u001b[38;5;129;01mis\u001b[39;00m \u001b[38;5;28;01mNone\u001b[39;00m \u001b[38;5;129;01mand\u001b[39;00m\n\u001b[0;32m    344\u001b[0m         parse_int \u001b[38;5;129;01mis\u001b[39;00m \u001b[38;5;28;01mNone\u001b[39;00m \u001b[38;5;129;01mand\u001b[39;00m parse_float \u001b[38;5;129;01mis\u001b[39;00m \u001b[38;5;28;01mNone\u001b[39;00m \u001b[38;5;129;01mand\u001b[39;00m\n\u001b[0;32m    345\u001b[0m         parse_constant \u001b[38;5;129;01mis\u001b[39;00m \u001b[38;5;28;01mNone\u001b[39;00m \u001b[38;5;129;01mand\u001b[39;00m object_pairs_hook \u001b[38;5;129;01mis\u001b[39;00m \u001b[38;5;28;01mNone\u001b[39;00m \u001b[38;5;129;01mand\u001b[39;00m \u001b[38;5;129;01mnot\u001b[39;00m kw):\n\u001b[1;32m--> 346\u001b[0m     \u001b[38;5;28;01mreturn\u001b[39;00m \u001b[43m_default_decoder\u001b[49m\u001b[38;5;241;43m.\u001b[39;49m\u001b[43mdecode\u001b[49m\u001b[43m(\u001b[49m\u001b[43ms\u001b[49m\u001b[43m)\u001b[49m\n\u001b[0;32m    347\u001b[0m \u001b[38;5;28;01mif\u001b[39;00m \u001b[38;5;28mcls\u001b[39m \u001b[38;5;129;01mis\u001b[39;00m \u001b[38;5;28;01mNone\u001b[39;00m:\n\u001b[0;32m    348\u001b[0m     \u001b[38;5;28mcls\u001b[39m \u001b[38;5;241m=\u001b[39m JSONDecoder\n",
      "File \u001b[1;32md:\\ProjHack\\Email Research Agent\\emailassis\\Lib\\json\\decoder.py:337\u001b[0m, in \u001b[0;36mJSONDecoder.decode\u001b[1;34m(self, s, _w)\u001b[0m\n\u001b[0;32m    332\u001b[0m \u001b[38;5;28;01mdef\u001b[39;00m \u001b[38;5;21mdecode\u001b[39m(\u001b[38;5;28mself\u001b[39m, s, _w\u001b[38;5;241m=\u001b[39mWHITESPACE\u001b[38;5;241m.\u001b[39mmatch):\n\u001b[0;32m    333\u001b[0m \u001b[38;5;250m    \u001b[39m\u001b[38;5;124;03m\"\"\"Return the Python representation of ``s`` (a ``str`` instance\u001b[39;00m\n\u001b[0;32m    334\u001b[0m \u001b[38;5;124;03m    containing a JSON document).\u001b[39;00m\n\u001b[0;32m    335\u001b[0m \n\u001b[0;32m    336\u001b[0m \u001b[38;5;124;03m    \"\"\"\u001b[39;00m\n\u001b[1;32m--> 337\u001b[0m     obj, end \u001b[38;5;241m=\u001b[39m \u001b[38;5;28;43mself\u001b[39;49m\u001b[38;5;241;43m.\u001b[39;49m\u001b[43mraw_decode\u001b[49m\u001b[43m(\u001b[49m\u001b[43ms\u001b[49m\u001b[43m,\u001b[49m\u001b[43m \u001b[49m\u001b[43midx\u001b[49m\u001b[38;5;241;43m=\u001b[39;49m\u001b[43m_w\u001b[49m\u001b[43m(\u001b[49m\u001b[43ms\u001b[49m\u001b[43m,\u001b[49m\u001b[43m \u001b[49m\u001b[38;5;241;43m0\u001b[39;49m\u001b[43m)\u001b[49m\u001b[38;5;241;43m.\u001b[39;49m\u001b[43mend\u001b[49m\u001b[43m(\u001b[49m\u001b[43m)\u001b[49m\u001b[43m)\u001b[49m\n\u001b[0;32m    338\u001b[0m     end \u001b[38;5;241m=\u001b[39m _w(s, end)\u001b[38;5;241m.\u001b[39mend()\n\u001b[0;32m    339\u001b[0m     \u001b[38;5;28;01mif\u001b[39;00m end \u001b[38;5;241m!=\u001b[39m \u001b[38;5;28mlen\u001b[39m(s):\n",
      "File \u001b[1;32md:\\ProjHack\\Email Research Agent\\emailassis\\Lib\\json\\decoder.py:353\u001b[0m, in \u001b[0;36mJSONDecoder.raw_decode\u001b[1;34m(self, s, idx)\u001b[0m\n\u001b[0;32m    344\u001b[0m \u001b[38;5;250m\u001b[39m\u001b[38;5;124;03m\"\"\"Decode a JSON document from ``s`` (a ``str`` beginning with\u001b[39;00m\n\u001b[0;32m    345\u001b[0m \u001b[38;5;124;03ma JSON document) and return a 2-tuple of the Python\u001b[39;00m\n\u001b[0;32m    346\u001b[0m \u001b[38;5;124;03mrepresentation and the index in ``s`` where the document ended.\u001b[39;00m\n\u001b[1;32m   (...)\u001b[0m\n\u001b[0;32m    350\u001b[0m \n\u001b[0;32m    351\u001b[0m \u001b[38;5;124;03m\"\"\"\u001b[39;00m\n\u001b[0;32m    352\u001b[0m \u001b[38;5;28;01mtry\u001b[39;00m:\n\u001b[1;32m--> 353\u001b[0m     obj, end \u001b[38;5;241m=\u001b[39m \u001b[38;5;28;43mself\u001b[39;49m\u001b[38;5;241;43m.\u001b[39;49m\u001b[43mscan_once\u001b[49m\u001b[43m(\u001b[49m\u001b[43ms\u001b[49m\u001b[43m,\u001b[49m\u001b[43m \u001b[49m\u001b[43midx\u001b[49m\u001b[43m)\u001b[49m\n\u001b[0;32m    354\u001b[0m \u001b[38;5;28;01mexcept\u001b[39;00m \u001b[38;5;167;01mStopIteration\u001b[39;00m \u001b[38;5;28;01mas\u001b[39;00m err:\n\u001b[0;32m    355\u001b[0m     \u001b[38;5;28;01mraise\u001b[39;00m JSONDecodeError(\u001b[38;5;124m\"\u001b[39m\u001b[38;5;124mExpecting value\u001b[39m\u001b[38;5;124m\"\u001b[39m, s, err\u001b[38;5;241m.\u001b[39mvalue) \u001b[38;5;28;01mfrom\u001b[39;00m \u001b[38;5;28;01mNone\u001b[39;00m\n",
      "\u001b[1;31mJSONDecodeError\u001b[0m: Unterminated string starting at: line 3 column 23 (char 458)",
      "\u001b[0mDuring task with name 'reflect_on_summary' and id 'f9674810-81ee-d4a1-8e95-0ae108471baf'"
     ]
    }
   ],
   "source": [
    "import gradio as gr\n",
    "from test_deep import (\n",
    "    SummaryState,\n",
    "    generate_query,\n",
    "    web_research,\n",
    "    summarize_sources,\n",
    "    reflect_on_summary,\n",
    "    finalize_summary\n",
    ")\n",
    "\n",
    "def run_deep_researcher(topic: str, loops: int = 2):\n",
    "    state = SummaryState(research_topic=topic)\n",
    "    \n",
    "    for _ in range(loops):\n",
    "        state.update(generate_query(state))\n",
    "        state.update(web_research(state))\n",
    "        state.update(summarize_sources(state))\n",
    "        state.update(reflect_on_summary(state))\n",
    "    \n",
    "    finalized = finalize_summary(state)\n",
    "    return finalized[\"running_summary\"]\n",
    "\n",
    "# Gradio UI setup\n",
    "iface = gr.Interface(\n",
    "    fn=run_deep_researcher,\n",
    "    inputs=[\n",
    "        gr.Textbox(label=\"Research Topic\", placeholder=\"Enter a technical topic like 'LLM Optimization Techniques'\"),\n",
    "        gr.Slider(minimum=1, maximum=5, step=1, value=2, label=\"Number of Research Loops\"),\n",
    "    ],\n",
    "    outputs=gr.Textbox(label=\"Final Research Summary\"),\n",
    "    title=\"🔍 Deep Researcher\",\n",
    "    description=\"Enter a topic to generate a research summary based on web search and local LLM summarization.\"\n",
    ")\n",
    "\n",
    "if __name__ == \"__main__\":\n",
    "    iface.launch()\n"
   ]
  },
  {
   "cell_type": "code",
   "execution_count": null,
   "metadata": {},
   "outputs": [],
   "source": []
  }
 ],
 "metadata": {
  "kernelspec": {
   "display_name": "Python 3",
   "language": "python",
   "name": "python3"
  },
  "language_info": {
   "codemirror_mode": {
    "name": "ipython",
    "version": 3
   },
   "file_extension": ".py",
   "mimetype": "text/x-python",
   "name": "python",
   "nbconvert_exporter": "python",
   "pygments_lexer": "ipython3",
   "version": "3.12.0"
  }
 },
 "nbformat": 4,
 "nbformat_minor": 2
}
